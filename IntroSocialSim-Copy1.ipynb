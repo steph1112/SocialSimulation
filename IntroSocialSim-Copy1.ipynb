{
 "cells": [
  {
   "cell_type": "markdown",
   "metadata": {
    "id": "b7QAkmKt3Bha"
   },
   "source": [
    "<img src=\"https://i.imgur.com/6U6q5jQ.png\"/>\n",
    "\n",
    "_____"
   ]
  },
  {
   "cell_type": "markdown",
   "metadata": {
    "id": "F-VIDmGt3Bhe"
   },
   "source": [
    "<a target=\"_blank\" href=\"https://colab.research.google.com/github/SocialAnalytics-StrategicIntelligence/introSocialSim/blob/main/IntroSocialSim.ipynb\">\n",
    "  <img src=\"https://colab.research.google.com/assets/colab-badge.svg\" alt=\"Open In Colab\"/>\n",
    "</a>\n",
    "\n",
    "# Introducción a la Simulación Social\n",
    "\n",
    "El análisis estadístico beneficia principalmente el estudio de las distribuciones de variables/factores. Podríamos complementar ese enfoque si nos enfocamos en los actores que producen las variables.\n",
    "\n",
    "Sin embargo, representar al actor no es una tarea fácil:\n",
    "\n",
    "* Un resultado social es un agregado **complejo** de actores individuales. En general, llamamos a los resultados sociales resultados **emergentes** de las decisiones individuales.\n",
    "\n",
    "* Se ha supuesto que las decisiones individuales son racionales, lo que simplifica en exceso los modelos de actores. De hecho, la toma de decisiones es un campo de estudio.\n",
    "\n",
    "* El procesamiento de información de los agentes está sesgado por la \"cultura\" (creencias, experiencia) y las instituciones (reglas, hábitos). Y pueden coexistir muchos paradigmas en un grupo particular. El cambio es posible, pero la estructura social y la cultura lo limitan.\n",
    "\n",
    "* Las acciones y decisiones de los actores ocurren dentro de una red de agentes. Un actor puede formar parte de varias redes.\n",
    "\n",
    "\n",
    "El campo relacionado con este estudio es la **Ciencia Social Computacional**. La metodología particular es el **modelado basado en agentes**."
   ]
  },
  {
   "cell_type": "markdown",
   "metadata": {
    "id": "W56G9sAl3Bhe"
   },
   "source": [
    "# Un juego sencillo como ejemplo\n",
    "\n",
    "Según la WIKIPEDIA, el juego Piedra, Papel, Tijera es un juego de suma cero simultáneo, con tres posibles resultados: un empate, una victoria o una derrota:\n",
    "\n",
    "* Un jugador que decide jugar **PIEDRA** vencerá a otro jugador que elija **TIJERA** (\"la piedra aplasta a la tijera\" o \"rompe la tijera\")\n",
    "* Un jugador que decide jugar **PIEDRA** perderá ante uno que ha jugado **PAPEL** (\"el papel cubre la piedra\").\n",
    "* Un jugador que decide jugar **PAPEL** perderá ante un juego de **TIJERA** (\"la tijera corta el papel\").\n",
    "* Si ambos jugadores eligen la misma forma, el juego termina en empate.\n",
    "\n",
    "Representemos el juego:\n",
    "\n",
    "## Estrategias\n",
    "\n",
    "Las estrategias son las opciones disponibles:"
   ]
  },
  {
   "cell_type": "code",
   "execution_count": 19,
   "metadata": {
    "id": "qyUNz0c13Bhf",
    "tags": []
   },
   "outputs": [],
   "source": [
    "strategies=['Rock','Paper','Scissors']"
   ]
  },
  {
   "cell_type": "markdown",
   "metadata": {
    "id": "jdbsMJ7s3Bhg"
   },
   "source": [
    "## Reglas\n",
    "\n",
    "Las reglas te indican que, de acuerdo con la estrategia seguida, los jugadores obtienen una recompensa::"
   ]
  },
  {
   "cell_type": "code",
   "execution_count": 21,
   "metadata": {
    "id": "9pA6wLk-3Bhg",
    "tags": []
   },
   "outputs": [],
   "source": [
    "payoff={('Rock','Paper'):(0,1),\n",
    "        ('Paper','Rock'):(1,0),\n",
    "        ('Rock','Scissors'):(1,0),\n",
    "        ('Scissors','Rock'):(0,1),\n",
    "        ('Paper','Scissors'):(0,1),\n",
    "        ('Scissors','Paper'):(1,0),\n",
    "        ('Rock','Rock'):(0,0),\n",
    "        ('Paper','Paper'):(0,0),\n",
    "        ('Scissors','Scissors'):(0,0)}"
   ]
  },
  {
   "cell_type": "markdown",
   "metadata": {
    "id": "YGl7aVUR3Bhh"
   },
   "source": [
    "## Creando y configurando agentes:\n",
    "\n",
    "Los jugadores tienen un nombre, pero no tienen puntaje ni estrategia aún."
   ]
  },
  {
   "cell_type": "code",
   "execution_count": 23,
   "metadata": {
    "id": "x-0ehfZN3Bhh",
    "tags": []
   },
   "outputs": [],
   "source": [
    "Players=[{'name':'John','score':0,'strategy':None},\n",
    "         {'name':'Mary','score':0,'strategy':None}]"
   ]
  },
  {
   "cell_type": "markdown",
   "metadata": {
    "id": "gxlO_c-O3Bhh"
   },
   "source": [
    "## Proceso de toma de decisiones\n",
    "\n",
    "Este es el proceso para elegir una estrategia:"
   ]
  },
  {
   "cell_type": "code",
   "execution_count": 25,
   "metadata": {
    "id": "4KMQq5Xp3Bhh",
    "tags": []
   },
   "outputs": [],
   "source": [
    "from random import choice\n",
    "\n",
    "#simplest strategy: choose randomly\n",
    "choice(strategies); # se quita ; para que salga el resultado"
   ]
  },
  {
   "cell_type": "markdown",
   "metadata": {
    "id": "0PfiHRnu3Bhi"
   },
   "source": [
    "## The moment of truth"
   ]
  },
  {
   "cell_type": "markdown",
   "metadata": {
    "id": "xM8h2fy43Bhi"
   },
   "source": [
    "* ### agent decide strategy"
   ]
  },
  {
   "cell_type": "code",
   "execution_count": 28,
   "metadata": {
    "id": "qpBCtSOZ3Bhi",
    "tags": []
   },
   "outputs": [],
   "source": [
    "Players[0]['strategy']=choice(strategies)\n",
    "Players[1]['strategy']=choice(strategies)"
   ]
  },
  {
   "cell_type": "markdown",
   "metadata": {
    "id": "1TcDAvnW3Bhi"
   },
   "source": [
    "* ### decisions made"
   ]
  },
  {
   "cell_type": "code",
   "execution_count": 30,
   "metadata": {
    "id": "JWWQqui13Bhi",
    "tags": []
   },
   "outputs": [
    {
     "data": {
      "text/plain": [
       "('Scissors', 'Scissors')"
      ]
     },
     "execution_count": 30,
     "metadata": {},
     "output_type": "execute_result"
    }
   ],
   "source": [
    "Players[0]['strategy'],Players[1]['strategy']"
   ]
  },
  {
   "cell_type": "code",
   "execution_count": 31,
   "metadata": {
    "id": "RMt-4WEp3Bhi",
    "tags": []
   },
   "outputs": [
    {
     "data": {
      "text/plain": [
       "(0, 0)"
      ]
     },
     "execution_count": 31,
     "metadata": {},
     "output_type": "execute_result"
    }
   ],
   "source": [
    "# social result of individual decision\n",
    "result = payoff[Players[0]['strategy'],Players[1]['strategy']]\n",
    "result"
   ]
  },
  {
   "cell_type": "markdown",
   "metadata": {
    "id": "K1YJ1TaT3Bhi"
   },
   "source": [
    "* ### agent benefits/suffers from decision made"
   ]
  },
  {
   "cell_type": "code",
   "execution_count": 33,
   "metadata": {
    "id": "FONXIfyx3Bhi",
    "tags": []
   },
   "outputs": [],
   "source": [
    "# update agents situation\n",
    "Players[0]['score']+=result[0]\n",
    "Players[1]['score']+=result[1]"
   ]
  },
  {
   "cell_type": "code",
   "execution_count": 34,
   "metadata": {
    "id": "jcjt8Y-73Bhj",
    "tags": []
   },
   "outputs": [
    {
     "data": {
      "text/plain": [
       "[{'name': 'John', 'score': 0, 'strategy': 'Scissors'},\n",
       " {'name': 'Mary', 'score': 0, 'strategy': 'Scissors'}]"
      ]
     },
     "execution_count": 34,
     "metadata": {},
     "output_type": "execute_result"
    }
   ],
   "source": [
    "# current agent situation\n",
    "Players"
   ]
  },
  {
   "cell_type": "markdown",
   "metadata": {
    "id": "0CL48QVY3Bhj"
   },
   "source": [
    "* ### social outcome"
   ]
  },
  {
   "cell_type": "code",
   "execution_count": 36,
   "metadata": {
    "id": "A956jn473Bhj",
    "tags": []
   },
   "outputs": [
    {
     "data": {
      "text/html": [
       "<div>\n",
       "<style scoped>\n",
       "    .dataframe tbody tr th:only-of-type {\n",
       "        vertical-align: middle;\n",
       "    }\n",
       "\n",
       "    .dataframe tbody tr th {\n",
       "        vertical-align: top;\n",
       "    }\n",
       "\n",
       "    .dataframe thead th {\n",
       "        text-align: right;\n",
       "    }\n",
       "</style>\n",
       "<table border=\"1\" class=\"dataframe\">\n",
       "  <thead>\n",
       "    <tr style=\"text-align: right;\">\n",
       "      <th></th>\n",
       "      <th>name</th>\n",
       "      <th>score</th>\n",
       "      <th>strategy</th>\n",
       "    </tr>\n",
       "  </thead>\n",
       "  <tbody>\n",
       "    <tr>\n",
       "      <th>0</th>\n",
       "      <td>John</td>\n",
       "      <td>0</td>\n",
       "      <td>Scissors</td>\n",
       "    </tr>\n",
       "    <tr>\n",
       "      <th>1</th>\n",
       "      <td>Mary</td>\n",
       "      <td>0</td>\n",
       "      <td>Scissors</td>\n",
       "    </tr>\n",
       "  </tbody>\n",
       "</table>\n",
       "</div>"
      ],
      "text/plain": [
       "   name  score  strategy\n",
       "0  John      0  Scissors\n",
       "1  Mary      0  Scissors"
      ]
     },
     "execution_count": 36,
     "metadata": {},
     "output_type": "execute_result"
    }
   ],
   "source": [
    "import pandas as pd\n",
    "\n",
    "socialResults=pd.DataFrame((Players[0], Players[1]))\n",
    "socialResults"
   ]
  },
  {
   "cell_type": "code",
   "execution_count": 37,
   "metadata": {
    "id": "9ESHyiU23Bhj",
    "tags": []
   },
   "outputs": [
    {
     "data": {
      "text/html": [
       "<div>\n",
       "<style scoped>\n",
       "    .dataframe tbody tr th:only-of-type {\n",
       "        vertical-align: middle;\n",
       "    }\n",
       "\n",
       "    .dataframe tbody tr th {\n",
       "        vertical-align: top;\n",
       "    }\n",
       "\n",
       "    .dataframe thead th {\n",
       "        text-align: right;\n",
       "    }\n",
       "</style>\n",
       "<table border=\"1\" class=\"dataframe\">\n",
       "  <thead>\n",
       "    <tr style=\"text-align: right;\">\n",
       "      <th></th>\n",
       "      <th>name</th>\n",
       "      <th>score</th>\n",
       "      <th>strategy</th>\n",
       "    </tr>\n",
       "  </thead>\n",
       "  <tbody>\n",
       "    <tr>\n",
       "      <th>0</th>\n",
       "      <td>John</td>\n",
       "      <td>0</td>\n",
       "      <td>Scissors</td>\n",
       "    </tr>\n",
       "    <tr>\n",
       "      <th>1</th>\n",
       "      <td>Mary</td>\n",
       "      <td>0</td>\n",
       "      <td>Scissors</td>\n",
       "    </tr>\n",
       "  </tbody>\n",
       "</table>\n",
       "</div>"
      ],
      "text/plain": [
       "   name  score  strategy\n",
       "0  John      0  Scissors\n",
       "1  Mary      0  Scissors"
      ]
     },
     "execution_count": 37,
     "metadata": {},
     "output_type": "execute_result"
    }
   ],
   "source": [
    "winnerScore=socialResults.score.max()\n",
    "\n",
    "#social outcome\n",
    "socialResults[socialResults.score==winnerScore]"
   ]
  },
  {
   "cell_type": "markdown",
   "metadata": {
    "id": "Or2dGn_r3Bhj"
   },
   "source": [
    "# More players"
   ]
  },
  {
   "cell_type": "code",
   "execution_count": 39,
   "metadata": {
    "id": "pqxAyskr3Bhj",
    "tags": []
   },
   "outputs": [],
   "source": [
    "# names of players\n",
    "names=['Jim','Jane','Peter','Zoe'] #nombres de jugadores , vamos a crear una sociedad "
   ]
  },
  {
   "cell_type": "code",
   "execution_count": 40,
   "metadata": {
    "id": "Eu8c9wOW3Bhj",
    "tags": []
   },
   "outputs": [],
   "source": [
    "# setting up players, la creacion de mi chiquita sociedad uwu\n",
    "society=[{'name':n,'score':0,'strategy':None} for n in names] # para cada name con score cero y estrategia cero "
   ]
  },
  {
   "cell_type": "code",
   "execution_count": 41,
   "metadata": {
    "id": "2qJvnmyA3Bhj",
    "tags": []
   },
   "outputs": [
    {
     "data": {
      "text/plain": [
       "[{'name': 'Jim', 'score': 0, 'strategy': None},\n",
       " {'name': 'Jane', 'score': 0, 'strategy': None},\n",
       " {'name': 'Peter', 'score': 0, 'strategy': None},\n",
       " {'name': 'Zoe', 'score': 0, 'strategy': None}]"
      ]
     },
     "execution_count": 41,
     "metadata": {},
     "output_type": "execute_result"
    }
   ],
   "source": [
    "# each player a dict:\n",
    "society"
   ]
  },
  {
   "cell_type": "code",
   "execution_count": 42,
   "metadata": {
    "id": "dEUgNXdq3Bhj",
    "tags": []
   },
   "outputs": [
    {
     "name": "stdout",
     "output_type": "stream",
     "text": [
      "({'name': 'Jim', 'score': 0, 'strategy': None}, {'name': 'Jane', 'score': 0, 'strategy': None})\n",
      "({'name': 'Jim', 'score': 0, 'strategy': None}, {'name': 'Peter', 'score': 0, 'strategy': None})\n",
      "({'name': 'Jim', 'score': 0, 'strategy': None}, {'name': 'Zoe', 'score': 0, 'strategy': None})\n",
      "({'name': 'Jane', 'score': 0, 'strategy': None}, {'name': 'Peter', 'score': 0, 'strategy': None})\n",
      "({'name': 'Jane', 'score': 0, 'strategy': None}, {'name': 'Zoe', 'score': 0, 'strategy': None})\n",
      "({'name': 'Peter', 'score': 0, 'strategy': None}, {'name': 'Zoe', 'score': 0, 'strategy': None})\n"
     ]
    }
   ],
   "source": [
    "import itertools # esta funcion realiza pares o combinacion de parejas en la sociedad, todas las parejas \n",
    "#sin repeticion\n",
    "\n",
    "# pair is a tuple of dicts\n",
    "for pair in itertools.combinations(society,2):\n",
    "    print(pair)"
   ]
  },
  {
   "cell_type": "code",
   "execution_count": 43,
   "metadata": {
    "id": "vb902ckz3Bhk",
    "tags": []
   },
   "outputs": [
    {
     "name": "stdout",
     "output_type": "stream",
     "text": [
      "{'name': 'Jim', 'score': 0, 'strategy': None} {'name': 'Jane', 'score': 0, 'strategy': None}\n",
      "{'name': 'Jim', 'score': 0, 'strategy': None} {'name': 'Peter', 'score': 0, 'strategy': None}\n",
      "{'name': 'Jim', 'score': 0, 'strategy': None} {'name': 'Zoe', 'score': 0, 'strategy': None}\n",
      "{'name': 'Jane', 'score': 0, 'strategy': None} {'name': 'Peter', 'score': 0, 'strategy': None}\n",
      "{'name': 'Jane', 'score': 0, 'strategy': None} {'name': 'Zoe', 'score': 0, 'strategy': None}\n",
      "{'name': 'Peter', 'score': 0, 'strategy': None} {'name': 'Zoe', 'score': 0, 'strategy': None}\n"
     ]
    }
   ],
   "source": [
    "import itertools\n",
    "\n",
    "# each dict\n",
    "for player1,player2 in itertools.combinations(society,2):\n",
    "    print(player1,player2)"
   ]
  },
  {
   "cell_type": "code",
   "execution_count": 134,
   "metadata": {
    "id": "KkSShr1z3Bhk",
    "tags": []
   },
   "outputs": [
    {
     "name": "stdout",
     "output_type": "stream",
     "text": [
      "Peter chose Scissors - Zoe chose Rock\n",
      "Zoe won\n"
     ]
    }
   ],
   "source": [
    "# resetting society\n",
    "society=[{'name':n,'score':0,'strategy':None} for n in names] # se crea la sociedad\n",
    "\n",
    "# several rounds\n",
    "for aRound in range(1000): # esto va a pasar 100 veces , todos juegan contra todos\n",
    "\n",
    "    # en each round:\n",
    "    for player1,player2 in itertools.combinations(society,2):\n",
    "        # each chooses strategy\n",
    "        player1['strategy']=choice(strategies)\n",
    "\n",
    "        player2['strategy']=choice(strategies)\n",
    "\n",
    "        # result from strategy chosen\n",
    "        result=payoff[player1['strategy'],player2['strategy']]\n",
    "\n",
    "        # update scores\n",
    "        player1['score']+=result[0]\n",
    "        player2['score']+=result[1]\n",
    "        \n",
    "print(player1['name'] + \" chose \" + player1['strategy'] +\" - \"+player2['name'] + \" chose \" + player2['strategy'] )\n",
    "if payoff[player1['strategy'],player2['strategy']] == (1,0):\n",
    "    print(player1['name'] + \" won\")\n",
    "if payoff[player1['strategy'],player2['strategy']] == (0,1):\n",
    "    print(player2['name'] + \" won\")\n",
    "else:\n",
    "    print(\"TIE!\")\n"
   ]
  },
  {
   "cell_type": "code",
   "execution_count": 124,
   "metadata": {
    "id": "w2epMKQe3Bhk",
    "tags": []
   },
   "outputs": [
    {
     "data": {
      "text/plain": [
       "[{'name': 'Jim', 'score': 984, 'strategy': 'Scissors'},\n",
       " {'name': 'Jane', 'score': 1014, 'strategy': 'Scissors'},\n",
       " {'name': 'Peter', 'score': 1008, 'strategy': 'Scissors'},\n",
       " {'name': 'Zoe', 'score': 1008, 'strategy': 'Paper'}]"
      ]
     },
     "execution_count": 124,
     "metadata": {},
     "output_type": "execute_result"
    }
   ],
   "source": [
    "# final situation\n",
    "society"
   ]
  },
  {
   "cell_type": "code",
   "execution_count": 126,
   "metadata": {
    "id": "aAqETHVm3Bhk",
    "tags": []
   },
   "outputs": [
    {
     "data": {
      "text/html": [
       "<div>\n",
       "<style scoped>\n",
       "    .dataframe tbody tr th:only-of-type {\n",
       "        vertical-align: middle;\n",
       "    }\n",
       "\n",
       "    .dataframe tbody tr th {\n",
       "        vertical-align: top;\n",
       "    }\n",
       "\n",
       "    .dataframe thead th {\n",
       "        text-align: right;\n",
       "    }\n",
       "</style>\n",
       "<table border=\"1\" class=\"dataframe\">\n",
       "  <thead>\n",
       "    <tr style=\"text-align: right;\">\n",
       "      <th></th>\n",
       "      <th>name</th>\n",
       "      <th>score</th>\n",
       "      <th>strategy</th>\n",
       "    </tr>\n",
       "  </thead>\n",
       "  <tbody>\n",
       "    <tr>\n",
       "      <th>0</th>\n",
       "      <td>Jim</td>\n",
       "      <td>984</td>\n",
       "      <td>Scissors</td>\n",
       "    </tr>\n",
       "    <tr>\n",
       "      <th>1</th>\n",
       "      <td>Jane</td>\n",
       "      <td>1014</td>\n",
       "      <td>Scissors</td>\n",
       "    </tr>\n",
       "    <tr>\n",
       "      <th>2</th>\n",
       "      <td>Peter</td>\n",
       "      <td>1008</td>\n",
       "      <td>Scissors</td>\n",
       "    </tr>\n",
       "    <tr>\n",
       "      <th>3</th>\n",
       "      <td>Zoe</td>\n",
       "      <td>1008</td>\n",
       "      <td>Paper</td>\n",
       "    </tr>\n",
       "  </tbody>\n",
       "</table>\n",
       "</div>"
      ],
      "text/plain": [
       "    name  score  strategy\n",
       "0    Jim    984  Scissors\n",
       "1   Jane   1014  Scissors\n",
       "2  Peter   1008  Scissors\n",
       "3    Zoe   1008     Paper"
      ]
     },
     "execution_count": 126,
     "metadata": {},
     "output_type": "execute_result"
    }
   ],
   "source": [
    "# as a data frame\n",
    "socialResults=pd.DataFrame(society)\n",
    "socialResults"
   ]
  },
  {
   "cell_type": "code",
   "execution_count": 128,
   "metadata": {
    "id": "JXRwvIlH3Bhk",
    "tags": []
   },
   "outputs": [
    {
     "data": {
      "text/html": [
       "<div>\n",
       "<style scoped>\n",
       "    .dataframe tbody tr th:only-of-type {\n",
       "        vertical-align: middle;\n",
       "    }\n",
       "\n",
       "    .dataframe tbody tr th {\n",
       "        vertical-align: top;\n",
       "    }\n",
       "\n",
       "    .dataframe thead th {\n",
       "        text-align: right;\n",
       "    }\n",
       "</style>\n",
       "<table border=\"1\" class=\"dataframe\">\n",
       "  <thead>\n",
       "    <tr style=\"text-align: right;\">\n",
       "      <th></th>\n",
       "      <th>name</th>\n",
       "      <th>score</th>\n",
       "      <th>strategy</th>\n",
       "    </tr>\n",
       "  </thead>\n",
       "  <tbody>\n",
       "    <tr>\n",
       "      <th>1</th>\n",
       "      <td>Jane</td>\n",
       "      <td>1014</td>\n",
       "      <td>Scissors</td>\n",
       "    </tr>\n",
       "  </tbody>\n",
       "</table>\n",
       "</div>"
      ],
      "text/plain": [
       "   name  score  strategy\n",
       "1  Jane   1014  Scissors"
      ]
     },
     "execution_count": 128,
     "metadata": {},
     "output_type": "execute_result"
    }
   ],
   "source": [
    "winnerScore=socialResults.score.max()\n",
    "\n",
    "#social outcome\n",
    "socialResults[socialResults.score==winnerScore]"
   ]
  },
  {
   "cell_type": "markdown",
   "metadata": {
    "id": "G_hR6jeE3Bhk"
   },
   "source": [
    "### Ejercicio 1\n",
    "<div class=\"alert-success\">\n",
    "\n",
    "¿Dónde agregarías este código para ver en vivo los resultados de este último torneo?"
   ]
  },
  {
   "cell_type": "raw",
   "metadata": {
    "id": "KZSFcqbz3Bhk"
   },
   "source": [
    "print(player1['name'] + \" chose \" + player1['strategy'] +\" - \"+player2['name'] + \" chose \" + player2['strategy'] )\n",
    "if payoff[player1['strategy'],player2['strategy']] == (1,0):\n",
    "    print(player1['name'] + \" won\")\n",
    "if payoff[player1['strategy'],player2['strategy']] == (0,1):\n",
    "    print(player2['name'] + \" won\")\n",
    "else:\n",
    "    print(\"TIE!\")"
   ]
  },
  {
   "cell_type": "markdown",
   "metadata": {
    "id": "wUFnOVbh3Bhk"
   },
   "source": [
    "### Ejercicio 2\n",
    "<div class=\"alert-success\">\n",
    "\n",
    "¿Cómo implementarías este juego para 10 jugadores y obtener los resultados?\n",
    "    \n",
    "</div>\n",
    "<img src=\"https://i.imgur.com/DE5mjs4.jpg\"/>"
   ]
  },
  {
   "cell_type": "markdown",
   "metadata": {
    "id": "llrFqJKI3Bhk"
   },
   "source": [
    "# Abstraction of agents\n",
    "\n",
    "Let's see some abstraction known 'OOP', which stands for Objetc-Oriented Programming.\n",
    "\n",
    "* This is the creation of an agent object and its methods:"
   ]
  },
  {
   "cell_type": "code",
   "execution_count": 51,
   "metadata": {
    "id": "1KQJVpJp3Bhk"
   },
   "outputs": [],
   "source": [
    "class Player:    # object class\n",
    "\n",
    "    def __init__(self,name,score=0): # create the object (self) for the class\n",
    "        self.name=name               # with some variables\n",
    "        self.score=score\n",
    "\n",
    "    def increase_score(self,value):  # metho for object class\n",
    "        self.score+=value"
   ]
  },
  {
   "cell_type": "markdown",
   "metadata": {
    "id": "cDvBwfQj3Bhl"
   },
   "source": [
    "Once created, you can give origin to instances of the object:"
   ]
  },
  {
   "cell_type": "code",
   "execution_count": 53,
   "metadata": {
    "id": "-OaSywPF3Bhl"
   },
   "outputs": [],
   "source": [
    "Mary=Player(\"Mary\")\n",
    "John=Player(\"John\")"
   ]
  },
  {
   "cell_type": "markdown",
   "metadata": {
    "id": "xXaie6gt3Bho"
   },
   "source": [
    "Let's use some previous code:"
   ]
  },
  {
   "cell_type": "code",
   "execution_count": 55,
   "metadata": {
    "id": "PTzQZS6J3Bhp"
   },
   "outputs": [
    {
     "data": {
      "text/plain": [
       "(1, 0)"
      ]
     },
     "execution_count": 55,
     "metadata": {},
     "output_type": "execute_result"
    }
   ],
   "source": [
    "John_strategy=choice(strategies)\n",
    "Mary_strategy=choice(strategies)\n",
    "\n",
    "John_PayOff,Mary_PayOff=payoff[John_strategy,Mary_strategy]\n",
    "John_PayOff,Mary_PayOff"
   ]
  },
  {
   "cell_type": "markdown",
   "metadata": {
    "id": "GKaauR2R3Bhp"
   },
   "source": [
    "We use those values to change the instaces' variables, as defined in the object class:"
   ]
  },
  {
   "cell_type": "code",
   "execution_count": 57,
   "metadata": {
    "id": "pMtRis-v3Bhp"
   },
   "outputs": [],
   "source": [
    "John.increase_score(John_PayOff)\n",
    "Mary.increase_score(Mary_PayOff)"
   ]
  },
  {
   "cell_type": "markdown",
   "metadata": {
    "id": "PGeguyIk3Bhp"
   },
   "source": [
    "The instances did update the score:"
   ]
  },
  {
   "cell_type": "code",
   "execution_count": 59,
   "metadata": {
    "id": "PPlboX2A3Bhp"
   },
   "outputs": [
    {
     "data": {
      "text/plain": [
       "(1, 0)"
      ]
     },
     "execution_count": 59,
     "metadata": {},
     "output_type": "execute_result"
    }
   ],
   "source": [
    "John.score, Mary.score"
   ]
  },
  {
   "cell_type": "markdown",
   "metadata": {
    "id": "Xsy3BnpA3Bhp"
   },
   "source": [
    "* A new class that inherists previous class:"
   ]
  },
  {
   "cell_type": "code",
   "execution_count": 61,
   "metadata": {
    "id": "LcDEVM2m3Bhp"
   },
   "outputs": [],
   "source": [
    "class PlayerBetter(Player):\n",
    "    def __init__(self,name,score=0):\n",
    "        Player.__init__(self,name,score=0)\n",
    "        self.strategy=None\n",
    "\n",
    "    def increase_score(self,value):\n",
    "        self.score+=value\n",
    "\n",
    "    def get_strategy(self):\n",
    "        from random import choice\n",
    "        strategies=['Rock','Paper','Scissors']\n",
    "        self.strategy=choice(strategies)\n",
    "        return self.strategy"
   ]
  },
  {
   "cell_type": "markdown",
   "metadata": {
    "id": "gkviYPVH3Bhp"
   },
   "source": [
    "We can use the new class:"
   ]
  },
  {
   "cell_type": "code",
   "execution_count": 63,
   "metadata": {
    "id": "XAppjR823Bhq"
   },
   "outputs": [
    {
     "data": {
      "text/plain": [
       "(0, 1)"
      ]
     },
     "execution_count": 63,
     "metadata": {},
     "output_type": "execute_result"
    }
   ],
   "source": [
    "Mary=PlayerBetter(\"Mary\")\n",
    "John=PlayerBetter(\"John\")\n",
    "\n",
    "# not needed\n",
    "# John_strategy=choice(strategies)\n",
    "# Mary_strategy=choice(strategies)\n",
    "\n",
    "John_PayOff,Mary_PayOff=payoff[John.get_strategy(),Mary.get_strategy()]\n",
    "John.increase_score(John_PayOff)\n",
    "Mary.increase_score(Mary_PayOff)\n",
    "##\n",
    "John.score, Mary.score"
   ]
  },
  {
   "cell_type": "markdown",
   "metadata": {
    "id": "IngSTGT63Bhq"
   },
   "source": [
    "The new class saves the current strategy:"
   ]
  },
  {
   "cell_type": "code",
   "execution_count": 65,
   "metadata": {
    "id": "iFoa8wDl3Bhq"
   },
   "outputs": [
    {
     "name": "stdout",
     "output_type": "stream",
     "text": [
      "Paper Scissors\n"
     ]
    }
   ],
   "source": [
    "print(John.strategy, Mary.strategy)"
   ]
  },
  {
   "cell_type": "markdown",
   "metadata": {
    "id": "CLqVFZaw3Bhq"
   },
   "source": [
    "We can use the new class repeatedly:"
   ]
  },
  {
   "cell_type": "code",
   "execution_count": 67,
   "metadata": {
    "id": "wcPyWVhN3Bhq"
   },
   "outputs": [
    {
     "name": "stdout",
     "output_type": "stream",
     "text": [
      "round: 1\n",
      "0 1\n",
      "Paper Scissors\n",
      "round: 2\n",
      "0 2\n",
      "Rock Paper\n",
      "round: 3\n",
      "0 2\n",
      "Scissors Scissors\n",
      "round: 4\n",
      "0 2\n",
      "Rock Rock\n",
      "round: 5\n",
      "0 3\n",
      "Scissors Rock\n",
      "round: 6\n",
      "0 4\n",
      "Rock Paper\n",
      "round: 7\n",
      "1 4\n",
      "Paper Rock\n",
      "round: 8\n",
      "2 4\n",
      "Paper Rock\n",
      "round: 9\n",
      "3 4\n",
      "Paper Rock\n",
      "round: 10\n",
      "3 4\n",
      "Rock Rock\n"
     ]
    }
   ],
   "source": [
    "Mary=PlayerBetter(\"Mary\")\n",
    "John=PlayerBetter(\"John\")\n",
    "\n",
    "for i in range(10):\n",
    "    John_PayOff,Mary_PayOff=payoff[John.get_strategy(),Mary.get_strategy()]\n",
    "    John.increase_score(John_PayOff)\n",
    "    Mary.increase_score(Mary_PayOff)\n",
    "    # see current result\n",
    "    print('round:',i+1)\n",
    "    print(John.score, Mary.score)\n",
    "    print(John.strategy, Mary.strategy)"
   ]
  },
  {
   "cell_type": "markdown",
   "metadata": {
    "id": "NNAcbHNw3Bhq"
   },
   "source": [
    "<div class=\"alert alert-danger\">\n",
    "  <strong>CHALLENGE!</strong>\n",
    "   <br> * Create classes that allows you to have several players play 100 rounds.\n",
    "   <br> * Save the scores.\n",
    "   <br> * Declare a winner\n",
    "</div>"
   ]
  }
 ],
 "metadata": {
  "colab": {
   "provenance": []
  },
  "hide_input": false,
  "kernelspec": {
   "display_name": "Python 3 (ipykernel)",
   "language": "python",
   "name": "python3"
  },
  "language_info": {
   "codemirror_mode": {
    "name": "ipython",
    "version": 3
   },
   "file_extension": ".py",
   "mimetype": "text/x-python",
   "name": "python",
   "nbconvert_exporter": "python",
   "pygments_lexer": "ipython3",
   "version": "3.11.7"
  }
 },
 "nbformat": 4,
 "nbformat_minor": 4
}
